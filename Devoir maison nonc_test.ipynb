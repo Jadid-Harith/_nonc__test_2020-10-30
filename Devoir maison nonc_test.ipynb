{
 "cells": [
  {
   "cell_type": "code",
   "execution_count": 1,
   "metadata": {},
   "outputs": [],
   "source": [
    "import json\n",
    "import pandas as pd\n",
    "import numpy as np\n",
    "import matplotlib.pyplot as plt\n",
    "\n",
    "def clean_data(data):\n",
    "    '''Remplace les valeurs saturées (200) par des NaN (Not a Number)'''\n",
    "    for i in range(len(data)):\n",
    "        if data[i]==200:\n",
    "            data[i]=np.nan\n",
    "    return data\n",
    "file=open(\"FILES.json\",\"r\")\n",
    "json_data=json.load(file)\n",
    "json1=json_data[0]\n",
    "json2=json_data[1]\n",
    "json3=json_data[2]\n",
    "label1=json1['datasets']['label']\n",
    "label2=json2['datasets']['label']\n",
    "label3=json3['datasets']['label']\n",
    "data1=json1['datasets']['data']\n",
    "data2=json2['datasets']['data']\n",
    "data3=json3['datasets']['data']\n",
    "time_index=json1['labels']\n",
    "humidity_dataframe = pd.DataFrame(\n",
    "data={\n",
    "    label1: data1,\n",
    "    label2: data2,\n",
    "    label3: data3,\n",
    "    },\n",
    "    index=time_index,\n",
    "    dtype='float'\n",
    ")\n",
    "humidity_dataframe.index = pd.to_datetime(humidity_dataframe.index)\n",
    "humidity_dataframe[label1]=clean_data(data1)\n",
    "humidity_dataframe[label2]=clean_data(data2)\n",
    "humidity_dataframe[label3]=clean_data(data3)"
   ]
  },
  {
   "cell_type": "code",
   "execution_count": 2,
   "metadata": {},
   "outputs": [],
   "source": [
    "def save_plot_to_file(dataframe,title, labels, start_date, end_date, filename):\n",
    "    '''Permet de transformer les données du dataframe en graphe'''\n",
    "    index = humidity_dataframe[start_date:end_date].index\n",
    "    j=0\n",
    "    fig,axs=plt.subplots(3,sharex=True,sharey=True, figsize=(10,10))#Unifie les axes entre les graphs et fixe la taille à 10x10\n",
    "    plt.rcParams['figure.dpi'] = 100\n",
    "    fig.autofmt_xdate()\n",
    "    plt.ylim(top=200) #Limite l'axe des y à 200 (valeur maximale)\n",
    "    plt.ylim(bottom=0) #Limite l'axe des y à 0 (valeur minimale)\n",
    "    axs[0].set_title(title) #Donne le titre au premier graphe\n",
    "    for i in labels :\n",
    "        values = humidity_dataframe[start_date:end_date][i].values\n",
    "        axs[j].margins(0) #Retire les marges\n",
    "        axs[j].set_yticks([7.5,22.5,45,80,150])\n",
    "        axs[j].set_yticklabels(['saturated','too wet','perfect','plan to water','dry'])\n",
    "        axs[j].plot(index, values,label=i)\n",
    "        axs[j].legend(loc='upper left') #Place la légende en haut à gauche\n",
    "        axs[j].fill_between(index,15,0, facecolor='red',alpha = 0.2) #Colorie une partie du graphe\n",
    "        axs[j].fill_between(index,30,15, facecolor='orange',alpha = 0.2) \n",
    "        axs[j].fill_between(index,60,30, facecolor='green',alpha = 0.2)\n",
    "        axs[j].fill_between(index,100,60, facecolor='yellow',alpha = 0.2)\n",
    "        axs[j].fill_between(index,200,100, facecolor='red',alpha = 0.2)\n",
    "        j=j+1 \n",
    "    plt.savefig(filename)"
   ]
  }
 ],
 "metadata": {
  "kernelspec": {
   "display_name": "Python 3",
   "language": "python",
   "name": "python3"
  },
  "language_info": {
   "codemirror_mode": {
    "name": "ipython",
    "version": 3
   },
   "file_extension": ".py",
   "mimetype": "text/x-python",
   "name": "python",
   "nbconvert_exporter": "python",
   "pygments_lexer": "ipython3",
   "version": "3.7.4"
  }
 },
 "nbformat": 4,
 "nbformat_minor": 2
}
